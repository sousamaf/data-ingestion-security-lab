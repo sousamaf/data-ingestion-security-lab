{
 "cells": [
  {
   "cell_type": "markdown",
   "id": "05c16796",
   "metadata": {},
   "source": [
    "# Hash e Cadeia de Custódia — Laboratório Didático\n",
    "\n",
    "Este notebook demonstra, passo a passo, como:\n",
    "1. Calcular **hashes criptográficos** (SHA-256 por padrão) de arquivos.\n",
    "2. **Registrar** hash + metadados em um **log de custódia** (CSV).\n",
    "3. Simular **alteração** de arquivo e **detectar** a mudança pelo hash.\n",
    "4. Fazer **verificação automática** de integridade.\n",
    "\n",
    "> **Contexto:** Em segurança pública e forense digital, o hash funciona como a **impressão digital** de um arquivo.  \n",
    "> Qualquer alteração (mesmo 1 byte) muda o hash. Por isso, registramos hash e metadados no momento da aquisição."
   ]
  },
  {
   "cell_type": "code",
   "execution_count": null,
   "id": "775d31bb",
   "metadata": {},
   "outputs": [],
   "source": [
    "import hashlib\n",
    "import csv\n",
    "import os\n",
    "from datetime import datetime\n",
    "\n",
    "print(\"OK: bibliotecas padrão carregadas\")"
   ]
  },
  {
   "cell_type": "markdown",
   "id": "4e564239",
   "metadata": {},
   "source": [
    "### 1) Funções utilitárias — Cálculo de Hash e Registro de Custódia"
   ]
  },
  {
   "cell_type": "code",
   "execution_count": null,
   "id": "e5939976",
   "metadata": {},
   "outputs": [],
   "source": [
    "def calcular_hash(caminho_arquivo: str, algoritmo: str = \"sha256\") -> str:\n",
    "    \"Calcula o hash (SHA-256 por padrão) de um arquivo de forma incremental.\"\n",
    "    h = hashlib.new(algoritmo)\n",
    "    with open(caminho_arquivo, \"rb\") as f:\n",
    "        for bloco in iter(lambda: f.read(1024 * 1024), b\"\"):  # 1MB por bloco\n",
    "            h.update(bloco)\n",
    "    return h.hexdigest()\n",
    "\n",
    "def registrar_custodia(csv_caminho: str, arquivo: str, hash_hex: str, responsavel: str, observacao: str = \"\") -> None:\n",
    "    \"Acrescenta uma linha ao registro de custódia (CSV). Cria cabeçalho se necessário.\" \n",
    "    campos = [\"data_iso\", \"arquivo\", \"hash_sha256\", \"responsavel\", \"observacao\"]\n",
    "    registro = {\n",
    "        \"data_iso\": datetime.now().isoformat(),\n",
    "        \"arquivo\": arquivo,\n",
    "        \"hash_sha256\": hash_hex,\n",
    "        \"responsavel\": responsavel,\n",
    "        \"observacao\": observacao,\n",
    "    }\n",
    "    novo_arquivo = not os.path.exists(csv_caminho)\n",
    "    with open(csv_caminho, \"a\", newline=\"\", encoding=\"utf-8\") as f:\n",
    "        writer = csv.DictWriter(f, fieldnames=campos)\n",
    "        if novo_arquivo:\n",
    "            writer.writeheader()\n",
    "        writer.writerow(registro)\n",
    "\n",
    "print(\"OK: funções utilitárias definidas\")"
   ]
  },
  {
   "cell_type": "markdown",
   "id": "67a2da2e",
   "metadata": {},
   "source": [
    "### 2) Criar um arquivo de exemplo e calcular o hash\n",
    "\n",
    "Vamos criar `exemplo.txt` e calcular seu **SHA-256**. Em seguida, registraremos no CSV `custodia.csv`."
   ]
  },
  {
   "cell_type": "code",
   "execution_count": null,
   "id": "088d9474",
   "metadata": {},
   "outputs": [],
   "source": [
    "# Criar arquivo de exemplo (conteúdo simples)\n",
    "arquivo = \"exemplo.txt\"\n",
    "with open(arquivo, \"w\", encoding=\"utf-8\") as f:\n",
    "    f.write(\"Relato inicial — ocorrência #12345\\n\")\n",
    "    f.write(\"Data/Hora: 2025-10-24T09:00:00\\n\")\n",
    "    f.write(\"Observações: conteúdo didático para teste de hash.\\n\")\n",
    "\n",
    "# Calcular hash SHA-256\n",
    "hash_inicial = calcular_hash(arquivo, \"sha256\")\n",
    "print(\"Arquivo:\", arquivo)\n",
    "print(\"SHA-256:\", hash_inicial)"
   ]
  },
  {
   "cell_type": "markdown",
   "id": "bc14cac2",
   "metadata": {},
   "source": [
    "### Registrar no log de custódia\n",
    "Gravamos data/hora, caminho do arquivo, hash e responsável."
   ]
  },
  {
   "cell_type": "code",
   "execution_count": null,
   "id": "1e663773",
   "metadata": {},
   "outputs": [],
   "source": [
    "csv_log = \"custodia.csv\"\n",
    "registrar_custodia(csv_log, arquivo, hash_inicial, responsavel=\"aluno_exemplo\", observacao=\"Coleta inicial\")\n",
    "print(f\"Registro de custódia atualizado: {csv_log}\")\n",
    "# Mostrar primeiras linhas do CSV\n",
    "with open(csv_log, \"r\", encoding=\"utf-8\") as f:\n",
    "    print(\"--- custodia.csv ---\")\n",
    "    print(f.read())"
   ]
  },
  {
   "cell_type": "markdown",
   "id": "7a35eb76",
   "metadata": {},
   "source": [
    "### 3) Simular alteração do arquivo (tampering) e recalcular hash\n",
    "\n",
    "Vamos **alterar 1 linha** do arquivo e ver que o hash muda completamente."
   ]
  },
  {
   "cell_type": "code",
   "execution_count": null,
   "id": "0afd5b11",
   "metadata": {},
   "outputs": [],
   "source": [
    "# Alterar 1 byte/linha no arquivo (simulação de modificação acidental/indevida)\n",
    "with open(arquivo, \"a\", encoding=\"utf-8\") as f:\n",
    "    f.write(\"Linha adicionada posteriormente (alteração).\\n\")\n",
    "\n",
    "hash_modificado = calcular_hash(arquivo, \"sha256\")\n",
    "print(\"SHA-256 (após alteração):\", hash_modificado)\n",
    "\n",
    "# Registrar nova entrada no log de custódia\n",
    "registrar_custodia(csv_log, arquivo, hash_modificado, responsavel=\"aluno_exemplo\", observacao=\"Arquivo alterado para demonstração\")\n",
    "\n",
    "with open(csv_log, \"r\", encoding=\"utf-8\") as f:\n",
    "    print(\"--- custodia.csv (atualizado) ---\")\n",
    "    print(f.read())"
   ]
  },
  {
   "cell_type": "markdown",
   "id": "c5ff488a",
   "metadata": {},
   "source": [
    "## 4) Verificação automática de integridade\n",
    "\n",
    "Função para comparar o hash atual com o hash esperado (registrado).  \n",
    "Útil para **auditorias** e **pipelines** de ingestão."
   ]
  },
  {
   "cell_type": "code",
   "execution_count": null,
   "id": "8ff0f7dd",
   "metadata": {},
   "outputs": [],
   "source": [
    "def verificar_integridade(caminho_arquivo: str, hash_esperado: str, algoritmo: str = \"sha256\") -> bool:\n",
    "    hash_atual = calcular_hash(caminho_arquivo, algoritmo)\n",
    "    return hash_atual == hash_esperado\n",
    "\n",
    "ok = verificar_integridade(arquivo, hash_inicial)\n",
    "print(\"Integridade OK (comparando com hash inicial)?\", ok)"
   ]
  },
  {
   "cell_type": "markdown",
   "id": "d25bc2d8",
   "metadata": {},
   "source": [
    "### 5) Boas práticas (anotações rápidas)\n",
    "\n",
    "- **Calcule o hash imediatamente após a coleta** (imagem forense, download, exportação).  \n",
    "- Use algoritmos modernos: **SHA-256** (ou superiores) em vez de MD5.  \n",
    "- **Registre metadados**: data/hora, operador, origem, ferramenta, local.  \n",
    "- **Não trabalhe no arquivo original** — sempre em cópias de análise.  \n",
    "- **Versione o log de custódia** e proteja o diretório de evidências.  \n",
    "- Em relatórios, **inclua o hash** ao referenciar qualquer arquivo.\n",
    "\n",
    "> Dica: você pode adaptar este notebook para validar PDFs, imagens forenses e dumps de banco de dados—basta apontar `calcular_hash()` para o arquivo desejado.\n"
   ]
  },
  {
   "cell_type": "markdown",
   "id": "b1681421",
   "metadata": {},
   "source": []
  },
  {
   "cell_type": "markdown",
   "id": "00b6f65a",
   "metadata": {},
   "source": []
  }
 ],
 "metadata": {
  "kernelspec": {
   "display_name": "gpuTorch",
   "language": "python",
   "name": "python3"
  },
  "language_info": {
   "codemirror_mode": {
    "name": "ipython",
    "version": 3
   },
   "file_extension": ".py",
   "mimetype": "text/x-python",
   "name": "python",
   "nbconvert_exporter": "python",
   "pygments_lexer": "ipython3",
   "version": "3.12.9"
  }
 },
 "nbformat": 4,
 "nbformat_minor": 5
}
